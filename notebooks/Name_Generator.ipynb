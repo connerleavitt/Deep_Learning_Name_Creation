{
 "cells": [
  {
   "cell_type": "code",
   "execution_count": 1,
   "metadata": {},
   "outputs": [
    {
     "name": "stdout",
     "output_type": "stream",
     "text": [
      "/Users/ngriffiths/Deep_Learning_Name_Creation\n"
     ]
    }
   ],
   "source": [
    "cd ../"
   ]
  },
  {
   "cell_type": "code",
   "execution_count": 352,
   "metadata": {},
   "outputs": [],
   "source": [
    "import joblib\n",
    "import torch\n",
    "from typing import *\n",
    "import numpy as np\n",
    "import torch.nn as nn\n",
    "import random\n",
    "import seaborn as sns\n",
    "import matplotlib.pyplot as plt\n",
    "from tqdm.notebook import tqdm\n",
    "random.seed(0)"
   ]
  },
  {
   "cell_type": "code",
   "execution_count": 153,
   "metadata": {},
   "outputs": [],
   "source": [
    "names = list(joblib.load('data/names.pkl')['names'])\n",
    "chars = set([c for word in names for c in word])\n",
    "chars.add('!')\n",
    "names = [n+'!' for n in names]\n",
    "ix_to_char = {i: c for i, c in enumerate(chars)}\n",
    "char_to_ix = {c: i for i, c in ix_to_char.items()}"
   ]
  },
  {
   "cell_type": "code",
   "execution_count": 158,
   "metadata": {},
   "outputs": [],
   "source": [
    "def name_to_ix(name: str,\n",
    "                   return_y: bool=False\n",
    "                  ) -> Union[torch.tensor, Optional[torch.tensor]]:\n",
    "    #x = torch.tensor([char_to_ix[n] for n in name[:-1]])\n",
    "    x = [char_to_ix[n] for n in name[:-1]]\n",
    "    y = None\n",
    "    if return_y:\n",
    "        y = [char_to_ix[n] for n in name[1:]]\n",
    "    return x, y"
   ]
  },
  {
   "cell_type": "code",
   "execution_count": 161,
   "metadata": {},
   "outputs": [],
   "source": [
    "def build_batch(names: List[str], return_y:bool=False):\n",
    "    x_batch = list()\n",
    "    y_batch = list()\n",
    "    \n",
    "    max_chars = np.max([len(x) for x in names])\n",
    "    padded_names = [n.ljust(max_chars, '!') for n in names]\n",
    "    \n",
    "    \n",
    "    for name in padded_names:\n",
    "        x_name, y_name = name_to_ix(name, return_y)\n",
    "        x_batch.append(x_name)\n",
    "        y_batch.append(y_name)\n",
    "    x_batch = torch.tensor(x_batch)\n",
    "    if return_y:\n",
    "        y_batch = torch.tensor(y_batch)\n",
    "        \n",
    "    return x_batch, y_batch"
   ]
  },
  {
   "cell_type": "code",
   "execution_count": 317,
   "metadata": {},
   "outputs": [],
   "source": [
    "# Build basic RNN\n",
    "\n",
    "class RNN(nn.Module):\n",
    "    def __init__(self, vocab_size, embed_dim, pad, dropout=.2):\n",
    "        super(RNN, self).__init__()\n",
    "        self.embed = nn.Embedding(vocab_size, embed_dim, pad)\n",
    "        self.rnn = nn.RNN(embed_dim, 20, 2, dropout=dropout, batch_first=True)\n",
    "        self.fc = nn.Linear(20, vocab_size)\n",
    "        self.softmax = nn.LogSoftmax(dim=1)\n",
    "        \n",
    "    def forward(self, x):\n",
    "        x = self.embed(x)\n",
    "        x, h_n = self.rnn(x)\n",
    "        x = nn.functional.relu(self.fc(x))\n",
    "        return x.view(x.shape[0], x.shape[2], -1)\n",
    "        "
   ]
  },
  {
   "cell_type": "code",
   "execution_count": 356,
   "metadata": {},
   "outputs": [],
   "source": [
    "def train(model,\n",
    "          optimizer,\n",
    "          train_names: List[str],\n",
    "          val_names: List[str],\n",
    "          batch_size: int= 10,\n",
    "          criterion=nn.CrossEntropyLoss(),\n",
    "          n_iter: int=10,\n",
    "          shuffle: bool=True,\n",
    "          early_stopping_rounds: int=5,\n",
    "          model_path = 'models/model.pkl'):\n",
    "    \n",
    "    train_groups = len(train_names)//batch_size\n",
    "    val_groups = len(val_names)//batch_size\n",
    "    \n",
    "    train_losses = list()\n",
    "    val_losses = list()\n",
    "    \n",
    "    best_val_loss = np.inf\n",
    "    no_imp = 0\n",
    "    \n",
    "    for it in range(1, n_iter+1):\n",
    "        \n",
    "        train_loss = list()\n",
    "        val_loss = list()\n",
    "        if shuffle:\n",
    "            random.shuffle(names)\n",
    "            \n",
    "        model.train()\n",
    "        for i in range(train_groups):\n",
    "            model.zero_grad()\n",
    "            x_batch, y_batch = build_batch(train_names[batch_size*i: batch_size*(i+1)], True)\n",
    "\n",
    "            preds = model(x_batch)\n",
    "\n",
    "            loss = criterion(preds, y_batch)\n",
    "            train_loss.append(loss.item())\n",
    "            loss.backward()\n",
    "            optimizer.step()\n",
    "            \n",
    "        model.eval()\n",
    "        with torch.no_grad():\n",
    "            for i in range(val_groups):\n",
    "                x_batch, y_batch = build_batch(val_names[batch_size*i: batch_size*(i+1)], True)\n",
    "                preds = model(x_batch)\n",
    "                loss = criterion(preds, y_batch)\n",
    "                val_loss.append(loss.item())\n",
    "        \n",
    "        print(f'Epoch {it} Train Loss: {np.mean(train_loss)}')\n",
    "        print(f'Epoch {it} Val Loss: {np.mean(val_loss)}')\n",
    "        train_losses.append(np.mean(train_loss))\n",
    "        val_losses.append(np.mean(val_loss))\n",
    "        \n",
    "        if np.mean(val_loss) < best_val_loss:\n",
    "            no_imp = 0\n",
    "            best_val_loss = np.mean(val_loss)\n",
    "            print('New best score... Saving model... \\n')\n",
    "            torch.save(model.state_dict(), model_path)\n",
    "        \n",
    "        else:\n",
    "            no_imp += 1\n",
    "            if no_imp == 5:\n",
    "                print(f'No improvement for {early_stopping_rounds} rounds. Ending training.')\n",
    "                break\n",
    "        \n",
    "    return train_losses, val_losses"
   ]
  },
  {
   "cell_type": "code",
   "execution_count": 357,
   "metadata": {},
   "outputs": [],
   "source": [
    "model = RNN(vocab_size=len(chars),\n",
    "            embed_dim=20,\n",
    "            pad=char_to_ix['!'],\n",
    "            dropout=0.1)\n",
    "optimizer = torch.optim.Adam(model.parameters(), lr=.005)\n",
    "random.shuffle(names)\n",
    "train_names = names[0:round(.7*len(names))]\n",
    "val_names = names[round(.7*len(names)):]"
   ]
  },
  {
   "cell_type": "code",
   "execution_count": 358,
   "metadata": {},
   "outputs": [
    {
     "name": "stdout",
     "output_type": "stream",
     "text": [
      "Epoch 1 Train Loss: 2.5127486550643465\n",
      "Epoch 1 Val Loss: 2.352580930620937\n",
      "New best score... Saving model... \n",
      "\n",
      "Epoch 2 Train Loss: 2.338051678395046\n",
      "Epoch 2 Val Loss: 2.2754401512065177\n",
      "New best score... Saving model... \n",
      "\n",
      "Epoch 3 Train Loss: 2.271811612897276\n",
      "Epoch 3 Val Loss: 2.227787668422117\n",
      "New best score... Saving model... \n",
      "\n",
      "Epoch 4 Train Loss: 2.2266521496277574\n",
      "Epoch 4 Val Loss: 2.1871305108070374\n",
      "New best score... Saving model... \n",
      "\n",
      "Epoch 5 Train Loss: 2.195277540252619\n",
      "Epoch 5 Val Loss: 2.1746303962448894\n",
      "New best score... Saving model... \n",
      "\n",
      "Epoch 6 Train Loss: 2.1837518595229395\n",
      "Epoch 6 Val Loss: 2.1631388464216457\n",
      "New best score... Saving model... \n",
      "\n",
      "Epoch 7 Train Loss: 2.1736390027951398\n",
      "Epoch 7 Val Loss: 2.1666265443219976\n",
      "Epoch 8 Train Loss: 2.1687725049997466\n",
      "Epoch 8 Val Loss: 2.1515338863356637\n",
      "New best score... Saving model... \n",
      "\n",
      "Epoch 9 Train Loss: 2.165585482215743\n",
      "Epoch 9 Val Loss: 2.138458063844907\n",
      "New best score... Saving model... \n",
      "\n",
      "Epoch 10 Train Loss: 2.159413883369213\n",
      "Epoch 10 Val Loss: 2.1344639058840476\n",
      "New best score... Saving model... \n",
      "\n",
      "Epoch 11 Train Loss: 2.1490255103391758\n",
      "Epoch 11 Val Loss: 2.1183633012286687\n",
      "New best score... Saving model... \n",
      "\n",
      "Epoch 12 Train Loss: 2.1405565928270094\n",
      "Epoch 12 Val Loss: 2.1148658503920346\n",
      "New best score... Saving model... \n",
      "\n",
      "Epoch 13 Train Loss: 2.133983783559169\n",
      "Epoch 13 Val Loss: 2.1127809734667764\n",
      "New best score... Saving model... \n",
      "\n",
      "Epoch 14 Train Loss: 2.132613021737004\n",
      "Epoch 14 Val Loss: 2.1106970393051534\n",
      "New best score... Saving model... \n",
      "\n",
      "Epoch 15 Train Loss: 2.129747653752024\n",
      "Epoch 15 Val Loss: 2.1093965423309196\n",
      "New best score... Saving model... \n",
      "\n",
      "Epoch 16 Train Loss: 2.129315359227105\n",
      "Epoch 16 Val Loss: 2.109135388721854\n",
      "New best score... Saving model... \n",
      "\n",
      "Epoch 17 Train Loss: 2.119929677953561\n",
      "Epoch 17 Val Loss: 2.0966226923263678\n",
      "New best score... Saving model... \n",
      "\n",
      "Epoch 18 Train Loss: 2.112862702548374\n",
      "Epoch 18 Val Loss: 2.092812550067902\n",
      "New best score... Saving model... \n",
      "\n",
      "Epoch 19 Train Loss: 2.11371088521413\n",
      "Epoch 19 Val Loss: 2.0920582524800704\n",
      "New best score... Saving model... \n",
      "\n",
      "Epoch 20 Train Loss: 2.1116933765494488\n",
      "Epoch 20 Val Loss: 2.0913908960455556\n",
      "New best score... Saving model... \n",
      "\n",
      "Epoch 21 Train Loss: 2.1129116809446047\n",
      "Epoch 21 Val Loss: 2.0890263737258263\n",
      "New best score... Saving model... \n",
      "\n",
      "Epoch 22 Train Loss: 2.108296583507402\n",
      "Epoch 22 Val Loss: 2.0895767341225833\n",
      "Epoch 23 Train Loss: 2.1554501729333584\n",
      "Epoch 23 Val Loss: 2.1297480647846805\n",
      "Epoch 24 Train Loss: 2.1258876691629855\n",
      "Epoch 24 Val Loss: 2.1012610653699455\n",
      "Epoch 25 Train Loss: 2.1171546452445402\n",
      "Epoch 25 Val Loss: 2.098246490955353\n"
     ]
    }
   ],
   "source": [
    "train_losses, val_losses = train(model=model,\n",
    "                                 optimizer=optimizer,\n",
    "                                 train_names=train_names,\n",
    "                                 val_names=val_names,\n",
    "                                 batch_size=100,\n",
    "                                 n_iter=100,\n",
    "                                 early_stopping_rounds=15\n",
    "                                 model_path= 'models/basic_rnn.pkl')"
   ]
  },
  {
   "cell_type": "code",
   "execution_count": 359,
   "metadata": {},
   "outputs": [
    {
     "data": {
      "text/plain": [
       "[<matplotlib.lines.Line2D at 0x7f9c51b6e3c8>]"
      ]
     },
     "execution_count": 359,
     "metadata": {},
     "output_type": "execute_result"
    },
    {
     "data": {
      "image/png": "[encoded data removed]",
      "text/plain": [
       "<Figure size 432x288 with 1 Axes>"
      ]
     },
     "metadata": {
      "needs_background": "light"
     },
     "output_type": "display_data"
    }
   ],
   "source": [
    "plt.plot(train_losses)"
   ]
  },
  {
   "cell_type": "code",
   "execution_count": 360,
   "metadata": {},
   "outputs": [
    {
     "data": {
      "text/plain": [
       "[<matplotlib.lines.Line2D at 0x7f9c4b0dd588>]"
      ]
     },
     "execution_count": 360,
     "metadata": {},
     "output_type": "execute_result"
    },
    {
     "data": {
      "image/png": "[encoded data removed]",
      "text/plain": [
       "<Figure size 432x288 with 1 Axes>"
      ]
     },
     "metadata": {
      "needs_background": "light"
     },
     "output_type": "display_data"
    }
   ],
   "source": [
    "plt.plot(val_losses)"
   ]
  }
 ],
 "metadata": {
  "kernelspec": {
   "display_name": "Python 3",
   "language": "python",
   "name": "python3"
  },
  "language_info": {
   "codemirror_mode": {
    "name": "ipython",
    "version": 3
   },
   "file_extension": ".py",
   "mimetype": "text/x-python",
   "name": "python",
   "nbconvert_exporter": "python",
   "pygments_lexer": "ipython3",
   "version": "3.7.3"
  }
 },
 "nbformat": 4,
 "nbformat_minor": 4
}
