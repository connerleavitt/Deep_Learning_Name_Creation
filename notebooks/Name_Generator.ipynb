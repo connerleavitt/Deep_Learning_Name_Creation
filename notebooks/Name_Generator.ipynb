{
 "cells": [
  {
   "cell_type": "code",
   "execution_count": 1,
   "metadata": {},
   "outputs": [
    {
     "name": "stdout",
     "output_type": "stream",
     "text": [
      "/Users/ngriffiths/Deep_Learning_Name_Creation\n"
     ]
    }
   ],
   "source": [
    "cd ../"
   ]
  },
  {
   "cell_type": "code",
   "execution_count": 87,
   "metadata": {},
   "outputs": [],
   "source": [
    "import joblib\n",
    "import torch\n",
    "from typing import *\n",
    "import numpy as np\n",
    "import torch.nn as nn"
   ]
  },
  {
   "cell_type": "code",
   "execution_count": 69,
   "metadata": {},
   "outputs": [],
   "source": [
    "names = list(joblib.load('data/names.pkl')['names'])"
   ]
  },
  {
   "cell_type": "code",
   "execution_count": 70,
   "metadata": {},
   "outputs": [],
   "source": [
    "chars = set([c for word in names for c in word])"
   ]
  },
  {
   "cell_type": "code",
   "execution_count": 71,
   "metadata": {},
   "outputs": [],
   "source": [
    "chars.add('<EOS>')\n",
    "chars.add('!')\n",
    "chars.add('unk')"
   ]
  },
  {
   "cell_type": "code",
   "execution_count": 72,
   "metadata": {},
   "outputs": [],
   "source": [
    "ix_to_char = {i: c for i, c in enumerate(chars)}\n",
    "char_to_ix = {c: i for i, c in ix_to_char.items()}"
   ]
  },
  {
   "cell_type": "code",
   "execution_count": 73,
   "metadata": {},
   "outputs": [],
   "source": [
    "def name_to_ix(name: str,\n",
    "                   return_y: bool=False\n",
    "                  ) -> Union[torch.tensor, Optional[torch.tensor]]:\n",
    "    #x = torch.tensor([char_to_ix[n] for n in name[:-1]])\n",
    "    x = [char_to_ix[n] for n in name[:-1]]\n",
    "    y = None\n",
    "    if return_y:\n",
    "        y = [char_to_ix[n] for n in name[1:]]\n",
    "    return x, y"
   ]
  },
  {
   "cell_type": "code",
   "execution_count": 74,
   "metadata": {},
   "outputs": [],
   "source": [
    "x_test, y_test = name_to_ix('nelson', True)"
   ]
  },
  {
   "cell_type": "code",
   "execution_count": 75,
   "metadata": {},
   "outputs": [
    {
     "data": {
      "text/plain": [
       "tensor([[20,  3, 48, 13, 30],\n",
       "        [20,  3, 48, 13, 30]])"
      ]
     },
     "execution_count": 75,
     "metadata": {},
     "output_type": "execute_result"
    }
   ],
   "source": [
    "torch.tensor([x_test, x_test])"
   ]
  },
  {
   "cell_type": "code",
   "execution_count": 85,
   "metadata": {},
   "outputs": [],
   "source": [
    "def build_batch(names: List[str], return_y:bool=False):\n",
    "    x_batch = list()\n",
    "    y_batch = list()\n",
    "    \n",
    "    max_chars = np.max([len(x) for x in names])\n",
    "    padded_names = [n.ljust(max_chars, '!') for n in names]\n",
    "    \n",
    "    \n",
    "    for name in padded_names:\n",
    "        x_name, y_name = name_to_ix(name, return_y)\n",
    "        x_batch.append(x_name)\n",
    "        y_batch.append(y_name)\n",
    "    x_batch = torch.tensor(x_batch)\n",
    "    if return_y:\n",
    "        y_batch = torch.tensor(y_batch)\n",
    "        \n",
    "    return x_batch, y_batch"
   ]
  },
  {
   "cell_type": "code",
   "execution_count": 130,
   "metadata": {},
   "outputs": [],
   "source": [
    "# Build basic RNN\n",
    "\n",
    "class RNN(nn.Module):\n",
    "    def __init__(self, vocab_size, embed_dim, pad):\n",
    "        super(RNN, self).__init__()\n",
    "        self.embed = nn.Embedding(vocab_size, embed_dim, pad)\n",
    "        self.rnn = nn.RNN(embed_dim, 20, 2, dropout=.2)\n",
    "        self.fc = nn.Linear(20, vocab_size)\n",
    "        self.softmax = nn.LogSoftmax(dim=1)\n",
    "        \n",
    "    def forward(self, x):\n",
    "        x = self.embed(x)\n",
    "        x, h_n = self.rnn(x)\n",
    "        x = self.fc(x)\n",
    "        return self.softmax(x)\n",
    "        "
   ]
  },
  {
   "cell_type": "code",
   "execution_count": 131,
   "metadata": {},
   "outputs": [],
   "source": [
    "model = RNN(len(chars), 20, char_to_ix['!'])"
   ]
  },
  {
   "cell_type": "code",
   "execution_count": 135,
   "metadata": {},
   "outputs": [],
   "source": [
    "import random\n",
    "name_sample = random.sample(names, 1000) "
   ]
  },
  {
   "cell_type": "code",
   "execution_count": 145,
   "metadata": {},
   "outputs": [],
   "source": [
    "def train(names: List[str], batch_size: int= 10):\n",
    "    n_iters = len(names)//batch_size\n",
    "    \n",
    "    for i in range(n_iters):\n",
    "        model.zero_grad()\n",
    "        x_batch, y_batch = build_batch(names[batch_size*i: batch_size*(i+1)])\n",
    "        \n",
    "        preds = model(x_batch)\n",
    "        print(preds.shape)"
   ]
  },
  {
   "cell_type": "code",
   "execution_count": 146,
   "metadata": {},
   "outputs": [
    {
     "name": "stdout",
     "output_type": "stream",
     "text": [
      "torch.Size([10, 7, 55])\n",
      "torch.Size([10, 6, 55])\n"
     ]
    }
   ],
   "source": [
    "train(names[0:20], 10)"
   ]
  },
  {
   "cell_type": "raw",
   "metadata": {},
   "source": []
  }
 ],
 "metadata": {
  "kernelspec": {
   "display_name": "Python 3",
   "language": "python",
   "name": "python3"
  },
  "language_info": {
   "codemirror_mode": {
    "name": "ipython",
    "version": 3
   },
   "file_extension": ".py",
   "mimetype": "text/x-python",
   "name": "python",
   "nbconvert_exporter": "python",
   "pygments_lexer": "ipython3",
   "version": "3.7.3"
  }
 },
 "nbformat": 4,
 "nbformat_minor": 4
}
